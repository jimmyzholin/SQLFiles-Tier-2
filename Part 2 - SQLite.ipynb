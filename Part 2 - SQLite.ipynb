{
 "cells": [
  {
   "cell_type": "code",
   "execution_count": 11,
   "metadata": {},
   "outputs": [],
   "source": [
    "import sqlite3 as sql"
   ]
  },
  {
   "cell_type": "code",
   "execution_count": 27,
   "metadata": {},
   "outputs": [],
   "source": [
    "con = sql.connect('sqlite_db_pythonsqlite.db')"
   ]
  },
  {
   "cell_type": "code",
   "execution_count": 28,
   "metadata": {},
   "outputs": [],
   "source": [
    "curs = con.cursor()"
   ]
  },
  {
   "cell_type": "code",
   "execution_count": 45,
   "metadata": {},
   "outputs": [
    {
     "name": "stdout",
     "output_type": "stream",
     "text": [
      "[('Table Tennis', 180), ('Snooker Table', 240), ('Pool Table', 270)]\n"
     ]
    }
   ],
   "source": [
    "#Question 10\n",
    "Q10 = curs.execute(\"SELECT \\\n",
    "                f.name as Facility_Name, \\\n",
    "                SUM(CASE WHEN b.memid = 0 THEN b.slots*f.guestcost \\\n",
    "                WHEN b.memid > 0 THEN b.slots*f.membercost END) AS Revenue\\\n",
    "            FROM Bookings AS b\\\n",
    "            LEFT JOIN Members AS m\\\n",
    "                ON b.memid = m.memid\\\n",
    "            LEFT JOIN Facilities AS f\\\n",
    "                ON b.facid = f.facid\\\n",
    "            WHERE (CASE WHEN b.memid = 0 THEN b.slots*f.guestcost\\\n",
    "                WHEN b.memid > 0 THEN b.slots*f.membercost END) < 1000\\\n",
    "            GROUP BY Facility_Name\\\n",
    "            HAVING Revenue < 1000\\\n",
    "            ORDER BY Revenue;\").fetchall()\n",
    "print(Q10)"
   ]
  },
  {
   "cell_type": "code",
   "execution_count": 50,
   "metadata": {},
   "outputs": [
    {
     "name": "stdout",
     "output_type": "stream",
     "text": [
      "[('Bader', 'Florence', 'Stibbons', 'Ponder'), ('Baker', 'Anne', 'Stibbons', 'Ponder'), ('Baker', 'Timothy', 'Farrell', 'Jemima'), ('Boothe', 'Tim', 'Rownam', 'Tim'), ('Butters', 'Gerald', 'Smith', 'Darren'), ('Coplin', 'Joan', 'Baker', 'Timothy'), ('Crumpet', 'Erica', 'Smith', 'Tracy'), ('Dare', 'Nancy', 'Joplette', 'Janice'), ('Farrell', 'Jemima', None, None), ('Farrell', 'David', None, None), ('GUEST', 'GUEST', None, None), ('Genting', 'Matthew', 'Butters', 'Gerald'), ('Hunt', 'John', 'Purview', 'Millicent'), ('Jones', 'David', 'Joplette', 'Janice'), ('Jones', 'Douglas', 'Jones', 'David'), ('Joplette', 'Janice', 'Smith', 'Darren'), ('Mackenzie', 'Anna', 'Smith', 'Darren'), ('Owen', 'Charles', 'Smith', 'Darren'), ('Pinker', 'David', 'Farrell', 'Jemima'), ('Purview', 'Millicent', 'Smith', 'Tracy'), ('Rownam', 'Tim', None, None), ('Rumney', 'Henrietta', 'Genting', 'Matthew'), ('Sarwin', 'Ramnaresh', 'Bader', 'Florence'), ('Smith', 'Darren', None, None), ('Smith', 'Tracy', None, None), ('Smith', 'Jack', 'Smith', 'Darren'), ('Smith', 'Darren', None, None), ('Stibbons', 'Ponder', 'Tracy', 'Burton'), ('Tracy', 'Burton', None, None), ('Tupperware', 'Hyacinth', None, None), ('Worthington-Smyth', 'Henry', 'Smith', 'Tracy')]\n"
     ]
    }
   ],
   "source": [
    "#Question 11\n",
    "Q11 = curs.execute(\"SELECT\\\n",
    "                    a.surname,\\\n",
    "                   a.firstname,\\\n",
    "                   b.surname,\\\n",
    "                   b.firstname\\\n",
    "                   FROM Members as a\\\n",
    "                   LEFT JOIN Members as b\\\n",
    "                   ON a.recommendedby = b.memid\\\n",
    "                   WHERE a.recommendedby IS NOT NULL\\\n",
    "                   ORDER BY a.surname;\").fetchall()\n",
    "print(Q11)"
   ]
  },
  {
   "cell_type": "code",
   "execution_count": 58,
   "metadata": {},
   "outputs": [
    {
     "name": "stdout",
     "output_type": "stream",
     "text": [
      "[('Badminton Court', 543), ('Massage Room 1', 442), ('Massage Room 2', 27), ('Pool Table', 428), ('Snooker Table', 430), ('Squash Court', 209), ('Table Tennis', 397), ('Tennis Court 1', 478), ('Tennis Court 2', 441)]\n"
     ]
    }
   ],
   "source": [
    "#Question 12\n",
    "Q12 = curs.execute(\"SELECT\\\n",
    "                    f.name as Facility,\\\n",
    "                   SUM(b.slots*30)/60 as Member_Usage_Hours\\\n",
    "                   FROM Bookings as b, Facilities as f\\\n",
    "                   WHERE b.facid = f.facid AND b.memid <> 0\\\n",
    "                   GROUP BY Facility;\").fetchall()\n",
    "print(Q12)"
   ]
  },
  {
   "cell_type": "code",
   "execution_count": 71,
   "metadata": {},
   "outputs": [
    {
     "name": "stdout",
     "output_type": "stream",
     "text": [
      "[('Badminton Court', '07', 543), ('Massage Room 1', '07', 442), ('Massage Room 2', '07', 27), ('Pool Table', '07', 428), ('Snooker Table', '07', 430), ('Squash Court', '07', 209), ('Table Tennis', '07', 397), ('Tennis Court 1', '07', 478), ('Tennis Court 2', '07', 441)]\n"
     ]
    }
   ],
   "source": [
    "#Question 13\n",
    "Q13 = curs.execute(\"SELECT\\\n",
    "                    f.name as Facility,\\\n",
    "                    strftime('%m', b.starttime) as Month,\\\n",
    "                    SUM(b.slots*30)/60 as Monthly_Usage_Hours\\\n",
    "                    FROM Bookings as b, Facilities as f\\\n",
    "                    WHERE b.facid = f.facid AND b.memid <> 0\\\n",
    "                    GROUP BY Facility;\").fetchall()\n",
    "print(Q13)"
   ]
  }
 ],
 "metadata": {
  "kernelspec": {
   "display_name": "Python 3",
   "language": "python",
   "name": "python3"
  },
  "language_info": {
   "codemirror_mode": {
    "name": "ipython",
    "version": 3
   },
   "file_extension": ".py",
   "mimetype": "text/x-python",
   "name": "python",
   "nbconvert_exporter": "python",
   "pygments_lexer": "ipython3",
   "version": "3.7.7"
  }
 },
 "nbformat": 4,
 "nbformat_minor": 4
}
